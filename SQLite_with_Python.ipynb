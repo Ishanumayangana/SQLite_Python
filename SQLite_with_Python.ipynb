{
  "nbformat": 4,
  "nbformat_minor": 0,
  "metadata": {
    "colab": {
      "provenance": [],
      "gpuType": "T4"
    },
    "kernelspec": {
      "name": "python3",
      "display_name": "Python 3"
    },
    "language_info": {
      "name": "python"
    },
    "accelerator": "GPU"
  },
  "cells": [
    {
      "cell_type": "markdown",
      "source": [
        "# **Import SQLite package**"
      ],
      "metadata": {
        "id": "TwUb7JajLC1d"
      }
    },
    {
      "cell_type": "code",
      "execution_count": 1,
      "metadata": {
        "id": "Ag8YBLlBDGx2"
      },
      "outputs": [],
      "source": [
        "import sqlite3\n"
      ]
    },
    {
      "cell_type": "code",
      "source": [
        "new_connection = sqlite3.connect(\"data_testing.db\")"
      ],
      "metadata": {
        "id": "8KUJW56CDRy2"
      },
      "execution_count": 2,
      "outputs": []
    },
    {
      "cell_type": "code",
      "source": [
        "type(new_connection)"
      ],
      "metadata": {
        "colab": {
          "base_uri": "https://localhost:8080/"
        },
        "id": "D1vKWG1kDgm2",
        "outputId": "f8a83833-6924-4145-97a2-f3d2d97d2bb4"
      },
      "execution_count": 3,
      "outputs": [
        {
          "output_type": "execute_result",
          "data": {
            "text/plain": [
              "sqlite3.Connection"
            ]
          },
          "metadata": {},
          "execution_count": 3
        }
      ]
    },
    {
      "cell_type": "code",
      "source": [
        "print(type(new_connection))"
      ],
      "metadata": {
        "colab": {
          "base_uri": "https://localhost:8080/"
        },
        "id": "a8nwDSfMD_Ji",
        "outputId": "4bb38e6d-65bb-4244-ebdd-958254fe1f5c"
      },
      "execution_count": 4,
      "outputs": [
        {
          "output_type": "stream",
          "name": "stdout",
          "text": [
            "<class 'sqlite3.Connection'>\n"
          ]
        }
      ]
    },
    {
      "cell_type": "code",
      "source": [
        "new_cursor = new_connection.cursor()\n",
        "print(type(new_cursor))"
      ],
      "metadata": {
        "colab": {
          "base_uri": "https://localhost:8080/"
        },
        "id": "NTuaNizdEgh7",
        "outputId": "6de69bc5-d3e1-42b1-f8dd-5724cb81c803"
      },
      "execution_count": 5,
      "outputs": [
        {
          "output_type": "stream",
          "name": "stdout",
          "text": [
            "<class 'sqlite3.Cursor'>\n"
          ]
        }
      ]
    },
    {
      "cell_type": "code",
      "source": [
        "new_sql = \"SELECT datetime('now', 'localtime');\""
      ],
      "metadata": {
        "id": "VNGGrpeWFJOl"
      },
      "execution_count": 8,
      "outputs": []
    },
    {
      "cell_type": "code",
      "source": [
        "new_cursor.execute(new_sql)"
      ],
      "metadata": {
        "colab": {
          "base_uri": "https://localhost:8080/"
        },
        "id": "5D1iR2THHm4v",
        "outputId": "6c36eb5c-8f1d-4de6-ae11-859818c39efd"
      },
      "execution_count": 9,
      "outputs": [
        {
          "output_type": "execute_result",
          "data": {
            "text/plain": [
              "<sqlite3.Cursor at 0x7b9dd5b8e4c0>"
            ]
          },
          "metadata": {},
          "execution_count": 9
        }
      ]
    },
    {
      "cell_type": "code",
      "source": [
        "new_cursor.fetchone()"
      ],
      "metadata": {
        "colab": {
          "base_uri": "https://localhost:8080/"
        },
        "id": "qZKv-SKnH3Mq",
        "outputId": "aaded128-fdbe-4998-c70e-9e9236346b0b"
      },
      "execution_count": 10,
      "outputs": [
        {
          "output_type": "execute_result",
          "data": {
            "text/plain": [
              "('2024-11-05 16:20:13',)"
            ]
          },
          "metadata": {},
          "execution_count": 10
        }
      ]
    },
    {
      "cell_type": "code",
      "source": [
        "new_dtime = new_cursor.execute(new_sql).fetchone()[0]"
      ],
      "metadata": {
        "id": "kNRWfos0IMB9"
      },
      "execution_count": 11,
      "outputs": []
    },
    {
      "cell_type": "code",
      "source": [
        "print(new_dtime)"
      ],
      "metadata": {
        "colab": {
          "base_uri": "https://localhost:8080/"
        },
        "id": "CDehyHUkIt3p",
        "outputId": "68379765-c61f-4226-f4f9-76205c860517"
      },
      "execution_count": 12,
      "outputs": [
        {
          "output_type": "stream",
          "name": "stdout",
          "text": [
            "2024-11-05 16:22:57\n"
          ]
        }
      ]
    },
    {
      "cell_type": "code",
      "source": [
        "new_connection.close()"
      ],
      "metadata": {
        "id": "tpSACfT7JHMO"
      },
      "execution_count": 13,
      "outputs": []
    },
    {
      "cell_type": "code",
      "source": [
        "with sqlite3.connect(\"data_testing.db\")as new_connection:\n",
        "  new_cursor = new_connection.cursor()\n",
        "  new_sql = \"SELECT datetime('now', 'localtime');\"\n",
        "  new_dtime = new_cursor.execute(new_sql).fetchone()[0]"
      ],
      "metadata": {
        "id": "Rzb23SqEJdjj"
      },
      "execution_count": 14,
      "outputs": []
    },
    {
      "cell_type": "code",
      "source": [
        "print(new_dtime)"
      ],
      "metadata": {
        "colab": {
          "base_uri": "https://localhost:8080/"
        },
        "id": "WRPp_7K8KXf1",
        "outputId": "8ef8a518-2b32-4a80-a1e8-19e3a868bacb"
      },
      "execution_count": 15,
      "outputs": [
        {
          "output_type": "stream",
          "name": "stdout",
          "text": [
            "2024-11-05 16:30:07\n"
          ]
        }
      ]
    },
    {
      "cell_type": "code",
      "source": [
        "new_connection.close()"
      ],
      "metadata": {
        "id": "AJRQlG1OL6TY"
      },
      "execution_count": 16,
      "outputs": []
    },
    {
      "cell_type": "markdown",
      "source": [
        "# **Create table**"
      ],
      "metadata": {
        "id": "A1Wm5MF0LIBy"
      }
    },
    {
      "cell_type": "code",
      "source": [
        "import sqlite3\n",
        "\n",
        "# Connect to SQLite database (or create it if it doesn't exist)\n",
        "conn = sqlite3.connect(\"example.db\")\n",
        "cursor = conn.cursor()\n",
        "\n",
        "# Create a table\n",
        "cursor.execute('''CREATE TABLE IF NOT EXISTS employees (\n",
        "                    id INTEGER PRIMARY KEY,\n",
        "                    name TEXT NOT NULL,\n",
        "                    age INTEGER,\n",
        "                    department TEXT)''')\n",
        "\n",
        "# Insert data into the table\n",
        "cursor.execute(\"INSERT INTO employees (name, age, department) VALUES ('Alice', 30, 'HR')\")\n",
        "cursor.execute(\"INSERT INTO employees (name, age, department) VALUES ('Bob', 25, 'Engineering')\")\n",
        "cursor.execute(\"INSERT INTO employees (name, age, department) VALUES ('Charlie', 35, 'Marketing')\")\n",
        "\n",
        "# Commit the changes\n",
        "conn.commit()\n",
        "\n",
        "# Fetch and display the data\n",
        "cursor.execute(\"SELECT * FROM employees\")\n",
        "rows = cursor.fetchall()\n",
        "\n",
        "for row in rows:\n",
        "    print(row)\n",
        "\n",
        "# Close the connection\n",
        "conn.close()\n"
      ],
      "metadata": {
        "colab": {
          "base_uri": "https://localhost:8080/"
        },
        "id": "zIvpunvlK4ry",
        "outputId": "33f431ff-c84a-46c7-d80e-f9cd01683454"
      },
      "execution_count": 17,
      "outputs": [
        {
          "output_type": "stream",
          "name": "stdout",
          "text": [
            "(1, 'Alice', 30, 'HR')\n",
            "(2, 'Bob', 25, 'Engineering')\n",
            "(3, 'Charlie', 35, 'Marketing')\n"
          ]
        }
      ]
    },
    {
      "cell_type": "code",
      "source": [
        "import sqlite3\n",
        "\n",
        "# Connect to SQLite database\n",
        "conn = sqlite3.connect(\"example.db\")\n",
        "cursor = conn.cursor()\n",
        "\n",
        "# Drop the table if it exists\n",
        "cursor.execute(\"DROP TABLE IF EXISTS employees\")\n",
        "\n",
        "# Commit the changes\n",
        "conn.commit()\n",
        "\n",
        "# Close the connection\n",
        "conn.close()\n"
      ],
      "metadata": {
        "id": "KYv_Gol8L8WE"
      },
      "execution_count": 18,
      "outputs": []
    },
    {
      "cell_type": "code",
      "source": [
        "import sqlite3\n",
        "\n",
        "# Connect to SQLite database (or create it if it doesn't exist)\n",
        "conn = sqlite3.connect(\"example.db\")\n",
        "cursor = conn.cursor()\n",
        "\n",
        "# Step 1: Create a table\n",
        "cursor.execute('''CREATE TABLE IF NOT EXISTS data_testing (\n",
        "                    id INTEGER PRIMARY KEY,\n",
        "                    name TEXT NOT NULL,\n",
        "                    age INTEGER,\n",
        "                    city TEXT)''')\n",
        "print(\"Table 'data_testing' created.\")\n",
        "\n",
        "\n",
        "\n",
        "\n",
        "\n",
        "\n",
        "\n",
        "\n",
        "\n",
        "\n",
        "\n",
        "\n",
        "\n"
      ],
      "metadata": {
        "colab": {
          "base_uri": "https://localhost:8080/"
        },
        "id": "M2FRRYCoNveU",
        "outputId": "4b29c1da-c6e3-4c75-d22f-a11a87bb4b9f"
      },
      "execution_count": 19,
      "outputs": [
        {
          "output_type": "stream",
          "name": "stdout",
          "text": [
            "Table 'data_testing' created.\n"
          ]
        }
      ]
    },
    {
      "cell_type": "code",
      "source": [
        "# Step 2: Insert data into the table\n",
        "cursor.execute(\"INSERT INTO data_testing (name, age, city) VALUES ('Alice', 30, 'New York')\")\n",
        "cursor.execute(\"INSERT INTO data_testing (name, age, city) VALUES ('Bob', 25, 'Los Angeles')\")\n",
        "cursor.execute(\"INSERT INTO data_testing (name, age, city) VALUES ('Charlie', 35, 'Chicago')\")\n",
        "conn.commit()\n",
        "print(\"Data inserted into 'data_testing'.\")"
      ],
      "metadata": {
        "colab": {
          "base_uri": "https://localhost:8080/"
        },
        "id": "A-QGNNKrO4co",
        "outputId": "9ff4d7e8-649e-4705-bc9c-43b9d80654c9"
      },
      "execution_count": 20,
      "outputs": [
        {
          "output_type": "stream",
          "name": "stdout",
          "text": [
            "Data inserted into 'data_testing'.\n"
          ]
        }
      ]
    },
    {
      "cell_type": "code",
      "source": [
        "# Step 3: Fetch all data\n",
        "print(\"\\nFetching all data:\")\n",
        "cursor.execute(\"SELECT * FROM data_testing\")\n",
        "rows = cursor.fetchall()\n",
        "for row in rows:\n",
        "    print(row)"
      ],
      "metadata": {
        "colab": {
          "base_uri": "https://localhost:8080/"
        },
        "id": "R1oeF8AlO5f_",
        "outputId": "b3f9e350-bf51-4379-eddc-6d7e1f42a25c"
      },
      "execution_count": 21,
      "outputs": [
        {
          "output_type": "stream",
          "name": "stdout",
          "text": [
            "\n",
            "Fetching all data:\n",
            "(1, 'Alice', 30, 'New York')\n",
            "(2, 'Bob', 25, 'Los Angeles')\n",
            "(3, 'Charlie', 35, 'Chicago')\n"
          ]
        }
      ]
    },
    {
      "cell_type": "code",
      "source": [
        "# Step 4: Use WHERE clause to fetch specific data\n",
        "print(\"\\nFetching data for people aged 30 and above:\")\n",
        "cursor.execute(\"SELECT * FROM data_testing WHERE age >= 30\")\n",
        "rows = cursor.fetchall()\n",
        "for row in rows:\n",
        "    print(row)"
      ],
      "metadata": {
        "colab": {
          "base_uri": "https://localhost:8080/"
        },
        "id": "Ud_G4xtUO5sb",
        "outputId": "565009d2-8a29-4b2a-969c-28d80a3f1003"
      },
      "execution_count": 22,
      "outputs": [
        {
          "output_type": "stream",
          "name": "stdout",
          "text": [
            "\n",
            "Fetching data for people aged 30 and above:\n",
            "(1, 'Alice', 30, 'New York')\n",
            "(3, 'Charlie', 35, 'Chicago')\n"
          ]
        }
      ]
    },
    {
      "cell_type": "code",
      "source": [
        "# Step 5: Update data\n",
        "print(\"\\nUpdating city for Bob to 'San Francisco':\")\n",
        "cursor.execute(\"UPDATE data_testing SET city = 'San Francisco' WHERE name = 'Bob'\")\n",
        "conn.commit()\n",
        "\n",
        "# Verify update\n",
        "cursor.execute(\"SELECT * FROM data_testing WHERE name = 'Bob'\")\n",
        "rows = cursor.fetchall()\n",
        "for row in rows:\n",
        "    print(row)"
      ],
      "metadata": {
        "colab": {
          "base_uri": "https://localhost:8080/"
        },
        "id": "x5VDc-NaO50r",
        "outputId": "69510af8-6243-4cb6-d1d8-dc0b4dd9d22e"
      },
      "execution_count": 23,
      "outputs": [
        {
          "output_type": "stream",
          "name": "stdout",
          "text": [
            "\n",
            "Updating city for Bob to 'San Francisco':\n",
            "(2, 'Bob', 25, 'San Francisco')\n"
          ]
        }
      ]
    },
    {
      "cell_type": "code",
      "source": [
        "# Step 6: Use ORDER BY clause\n",
        "print(\"\\nFetching data ordered by age descending:\")\n",
        "cursor.execute(\"SELECT * FROM data_testing ORDER BY age DESC\")\n",
        "rows = cursor.fetchall()\n",
        "for row in rows:\n",
        "    print(row)"
      ],
      "metadata": {
        "colab": {
          "base_uri": "https://localhost:8080/"
        },
        "id": "uuOfjtiKO54Z",
        "outputId": "9426d8de-1eee-4799-ae15-94d0b2686cdc"
      },
      "execution_count": 24,
      "outputs": [
        {
          "output_type": "stream",
          "name": "stdout",
          "text": [
            "\n",
            "Fetching data ordered by age descending:\n",
            "(3, 'Charlie', 35, 'Chicago')\n",
            "(1, 'Alice', 30, 'New York')\n",
            "(2, 'Bob', 25, 'San Francisco')\n"
          ]
        }
      ]
    },
    {
      "cell_type": "code",
      "source": [
        "# Step 7: Delete a specific record\n",
        "print(\"\\nDeleting record for Charlie:\")\n",
        "cursor.execute(\"DELETE FROM data_testing WHERE name = 'Charlie'\")\n",
        "conn.commit()\n",
        "\n",
        "# Verify deletion\n",
        "cursor.execute(\"SELECT * FROM data_testing\")\n",
        "rows = cursor.fetchall()\n",
        "for row in rows:\n",
        "    print(row)\n"
      ],
      "metadata": {
        "colab": {
          "base_uri": "https://localhost:8080/"
        },
        "id": "9zPVXXUxO57N",
        "outputId": "b99c9867-239a-45c0-85df-86f118de4197"
      },
      "execution_count": 25,
      "outputs": [
        {
          "output_type": "stream",
          "name": "stdout",
          "text": [
            "\n",
            "Deleting record for Charlie:\n",
            "(1, 'Alice', 30, 'New York')\n",
            "(2, 'Bob', 25, 'San Francisco')\n"
          ]
        }
      ]
    },
    {
      "cell_type": "code",
      "source": [
        "# Step 8: Drop the table\n",
        "print(\"\\nDropping the table 'data_testing':\")\n",
        "cursor.execute(\"DROP TABLE IF EXISTS data_testing\")\n",
        "conn.commit()\n"
      ],
      "metadata": {
        "colab": {
          "base_uri": "https://localhost:8080/"
        },
        "id": "7wAN4vyXO6Ab",
        "outputId": "037c520e-421d-402b-d1fb-3c7ee97a94c9"
      },
      "execution_count": 26,
      "outputs": [
        {
          "output_type": "stream",
          "name": "stdout",
          "text": [
            "\n",
            "Dropping the table 'data_testing':\n"
          ]
        }
      ]
    },
    {
      "cell_type": "code",
      "source": [
        "# Close the connection\n",
        "conn.close()\n",
        "print(\"Table 'data_testing' dropped and connection closed.\")\n"
      ],
      "metadata": {
        "colab": {
          "base_uri": "https://localhost:8080/"
        },
        "id": "obHoxgzTPJNU",
        "outputId": "d53a12d7-8918-4461-838c-ba372179f130"
      },
      "execution_count": 27,
      "outputs": [
        {
          "output_type": "stream",
          "name": "stdout",
          "text": [
            "Table 'data_testing' dropped and connection closed.\n"
          ]
        }
      ]
    },
    {
      "cell_type": "code",
      "source": [],
      "metadata": {
        "id": "ZkLdeD6YPbJ8"
      },
      "execution_count": null,
      "outputs": []
    }
  ]
}